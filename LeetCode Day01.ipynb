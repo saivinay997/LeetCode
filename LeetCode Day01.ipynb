{
 "cells": [
  {
   "cell_type": "markdown",
   "id": "448c8ec3",
   "metadata": {},
   "source": [
    "Question 121\n",
    "\n",
    "You are given an array prices where prices[i] is the price of a given stock on the ith day.\n",
    "\n",
    "You want to maximize your profit by choosing a single day to buy one stock and choosing a different day in the future to sell that stock."
   ]
  },
  {
   "cell_type": "code",
   "execution_count": 3,
   "id": "fc2dc38c",
   "metadata": {},
   "outputs": [],
   "source": [
    "def maxProfit(prices):\n",
    "    min_price, max_profit = float('inf'), 0\n",
    "    for price in prices:\n",
    "        if price < min_price:\n",
    "            min_price = price\n",
    "        else:\n",
    "            max_profit = max(max_profit, price- min_price)\n",
    "    return max_profit"
   ]
  },
  {
   "cell_type": "code",
   "execution_count": 4,
   "id": "0b389482",
   "metadata": {},
   "outputs": [
    {
     "data": {
      "text/plain": [
       "5"
      ]
     },
     "execution_count": 4,
     "metadata": {},
     "output_type": "execute_result"
    }
   ],
   "source": [
    "maxProfit([7,1,5,3,6,4])"
   ]
  },
  {
   "cell_type": "code",
   "execution_count": 5,
   "id": "2a572bf6",
   "metadata": {},
   "outputs": [
    {
     "data": {
      "text/plain": [
       "0"
      ]
     },
     "execution_count": 5,
     "metadata": {},
     "output_type": "execute_result"
    }
   ],
   "source": [
    "maxProfit([3,3])"
   ]
  },
  {
   "cell_type": "code",
   "execution_count": 11,
   "id": "af9edd39",
   "metadata": {},
   "outputs": [],
   "source": [
    "def maxProfit_0(price):\n",
    "    profit = 0\n",
    "    low = float('inf')\n",
    "    for i in price:\n",
    "        if low>i:\n",
    "            low = i\n",
    "        elif i - low > profit:\n",
    "            profit = i - low\n",
    "    return profit"
   ]
  },
  {
   "cell_type": "code",
   "execution_count": 6,
   "id": "b9f3b952",
   "metadata": {},
   "outputs": [],
   "source": [
    "def maxProfit_1(prices):\n",
    "    profit = 0\n",
    "    length = len(prices)\n",
    "    while length > 1:\n",
    "        min_index = prices.index(min(prices))\n",
    "        max_index = prices.index(max(prices))\n",
    "        if min_index > max_index:\n",
    "            prices.pop(min_index)\n",
    "        else:\n",
    "            profit = prices[max_index] - prices[min_index]\n",
    "            break\n",
    "    return profit\n",
    "\n",
    "# in this code, it only works for global max and min.\n",
    "# doesn't check for intermediate values."
   ]
  },
  {
   "cell_type": "code",
   "execution_count": 7,
   "id": "b2d6e390",
   "metadata": {},
   "outputs": [
    {
     "data": {
      "text/plain": [
       "0"
      ]
     },
     "execution_count": 7,
     "metadata": {},
     "output_type": "execute_result"
    }
   ],
   "source": [
    "maxProfit_1([7,1,5,3,6,4])\n",
    "# it is not c0nsidering 6 as max  value. "
   ]
  },
  {
   "cell_type": "code",
   "execution_count": 8,
   "id": "5e79fbac",
   "metadata": {},
   "outputs": [],
   "source": [
    "def maxProfit_2( prices: list[int]) -> int:\n",
    "    profit = 0\n",
    "    min_val = min(prices)\n",
    "    split_lst = prices[prices.index(min_val)+1:]\n",
    "    if split_lst == []:\n",
    "        return 0\n",
    "    max_val = max(split_lst)\n",
    "    profit = max_val - min_val\n",
    "    return profit"
   ]
  },
  {
   "cell_type": "code",
   "execution_count": 10,
   "id": "61f70a18",
   "metadata": {},
   "outputs": [
    {
     "data": {
      "text/plain": [
       "0"
      ]
     },
     "execution_count": 10,
     "metadata": {},
     "output_type": "execute_result"
    }
   ],
   "source": [
    "maxProfit_2([2,4,1])\n",
    "# in this code, it is not considering the values befor the min value"
   ]
  },
  {
   "cell_type": "markdown",
   "id": "db44c440",
   "metadata": {},
   "source": [
    "Question 1 \n",
    "\n",
    "Given an array of integers nums and an integer target, return indices of the two numbers such that they add up to target.\n",
    "\n",
    "You may assume that each input would have exactly one solution, and you may not use the same element twice.\n",
    "\n",
    "Input: nums = [2,7,11,15], target = 9\n",
    "Output: [0,1]\n",
    "Explanation: Because nums[0] + nums[1] == 9, we return [0, 1]."
   ]
  },
  {
   "cell_type": "code",
   "execution_count": 16,
   "id": "424ba2e2",
   "metadata": {},
   "outputs": [],
   "source": [
    "def twoSum(nums: list[int], target: int) -> list[int]:\n",
    "    sum_indx_dict = {}\n",
    "    length = len(nums)\n",
    "    for i in range(len(nums)-1):\n",
    "        for num in nums[i+1:]:\n",
    "            sum_ = nums[i]+num\n",
    "            if sum_ not in sum_indx_dict:\n",
    "                sum_indx_dict[sum_] = [nums.index(nums[i]),nums.index(num)]\n",
    "    print(sum_indx_dict)\n",
    "    if target in sum_indx_dict:\n",
    "        return sum_indx_dict[target]\n",
    "    else:\n",
    "        return []"
   ]
  },
  {
   "cell_type": "code",
   "execution_count": 17,
   "id": "2d8d94ae",
   "metadata": {},
   "outputs": [
    {
     "name": "stdout",
     "output_type": "stream",
     "text": [
      "{9: [0, 1], 13: [0, 2], 17: [0, 3], 18: [1, 2], 22: [1, 3], 26: [2, 3]}\n"
     ]
    },
    {
     "data": {
      "text/plain": [
       "[0, 1]"
      ]
     },
     "execution_count": 17,
     "metadata": {},
     "output_type": "execute_result"
    }
   ],
   "source": [
    "twoSum([2,7,11,15], 9)"
   ]
  },
  {
   "cell_type": "code",
   "execution_count": 18,
   "id": "637d3b02",
   "metadata": {},
   "outputs": [
    {
     "name": "stdout",
     "output_type": "stream",
     "text": [
      "{5: [0, 1], 7: [0, 2], 6: [1, 2]}\n"
     ]
    },
    {
     "data": {
      "text/plain": [
       "[1, 2]"
      ]
     },
     "execution_count": 18,
     "metadata": {},
     "output_type": "execute_result"
    }
   ],
   "source": [
    "twoSum([3,2,4], 6)"
   ]
  },
  {
   "cell_type": "code",
   "execution_count": 19,
   "id": "883142d3",
   "metadata": {},
   "outputs": [
    {
     "name": "stdout",
     "output_type": "stream",
     "text": [
      "{6: [0, 0]}\n"
     ]
    },
    {
     "data": {
      "text/plain": [
       "[0, 0]"
      ]
     },
     "execution_count": 19,
     "metadata": {},
     "output_type": "execute_result"
    }
   ],
   "source": [
    "twoSum([3,3],6)\n",
    "# this code is not working for list of same values.\n",
    "# in .index method it returns the first number index "
   ]
  },
  {
   "cell_type": "code",
   "execution_count": 37,
   "id": "b7a5fb5d",
   "metadata": {},
   "outputs": [],
   "source": [
    "def twoSum_1(nums:list[int], target: int):\n",
    "    dict = {}\n",
    "    for index, num in enumerate(nums):\n",
    "        diff = target - num\n",
    "        if diff in dict:\n",
    "            return [dict[diff], index]\n",
    "        dict[num] = index\n",
    "    if target not in dict:\n",
    "        print(\"Sum cannot happen.\")"
   ]
  },
  {
   "cell_type": "code",
   "execution_count": 38,
   "id": "b22420ba",
   "metadata": {},
   "outputs": [
    {
     "data": {
      "text/plain": [
       "[0, 1]"
      ]
     },
     "execution_count": 38,
     "metadata": {},
     "output_type": "execute_result"
    }
   ],
   "source": [
    "twoSum_1([3,3],6)"
   ]
  },
  {
   "cell_type": "code",
   "execution_count": 39,
   "id": "d8bd7293",
   "metadata": {},
   "outputs": [
    {
     "name": "stdout",
     "output_type": "stream",
     "text": [
      "Sum cannot happen.\n"
     ]
    }
   ],
   "source": [
    "twoSum_1([3,2,4], 8)"
   ]
  },
  {
   "cell_type": "code",
   "execution_count": 40,
   "id": "1a01dfd7",
   "metadata": {},
   "outputs": [],
   "source": [
    "def twoSum_2(nums:list[int], target: int):\n",
    "    dict = {}\n",
    "    for i in range(len(nums)):\n",
    "        diff = target - nums[i]\n",
    "        if diff in dict:\n",
    "            return [dict[diff], i]\n",
    "        dict[nums[i]] = i"
   ]
  },
  {
   "cell_type": "code",
   "execution_count": 41,
   "id": "3aaf2665",
   "metadata": {},
   "outputs": [
    {
     "data": {
      "text/plain": [
       "[1, 2]"
      ]
     },
     "execution_count": 41,
     "metadata": {},
     "output_type": "execute_result"
    }
   ],
   "source": [
    "twoSum_1([3,2,4], 6)"
   ]
  },
  {
   "cell_type": "code",
   "execution_count": 43,
   "id": "e135ff45",
   "metadata": {},
   "outputs": [
    {
     "data": {
      "text/plain": [
       "[0, 1]"
      ]
     },
     "execution_count": 43,
     "metadata": {},
     "output_type": "execute_result"
    }
   ],
   "source": [
    "twoSum_1([3,3],6)"
   ]
  },
  {
   "cell_type": "markdown",
   "id": "b23174fb",
   "metadata": {},
   "source": [
    "Question 2. Add Two Numbers\n",
    "\n",
    "You are given two non-empty linked lists representing two non-negative integers. The digits are stored in reverse order, and each of their nodes contains a single digit. Add the two numbers and return the sum as a linked list.\n",
    "\n",
    "You may assume the two numbers do not contain any leading zero, except the number 0 itself."
   ]
  },
  {
   "cell_type": "code",
   "execution_count": 59,
   "id": "ceb848ad",
   "metadata": {},
   "outputs": [],
   "source": [
    "def addTwoNumbers(lst_1, \n",
    "                  lst_2) :\n",
    "    \n",
    "    l1_rev = lst_1[::-1]\n",
    "    l2_rev = lst_2[::-1]\n",
    "    num_1, num_2 = '', ''\n",
    "    for i in l1_rev:\n",
    "        num_1 += str(i)\n",
    "    for j in l2_rev:\n",
    "        num_2 += str(j)\n",
    "    sum_of = int(num_1) + int(num_2)\n",
    "    result = []\n",
    "    for k in str(sum_of):\n",
    "        result.append(int(k))\n",
    "    result.reverse()\n",
    "    \n",
    "    \n",
    "    return result"
   ]
  },
  {
   "cell_type": "code",
   "execution_count": 47,
   "id": "cf2a04e1",
   "metadata": {},
   "outputs": [
    {
     "data": {
      "text/plain": [
       "123"
      ]
     },
     "execution_count": 47,
     "metadata": {},
     "output_type": "execute_result"
    }
   ],
   "source": [
    "l=[1,2,3]\n",
    "j = ''\n",
    "for i in l:\n",
    "    j += str(i)\n",
    "int(j)"
   ]
  },
  {
   "cell_type": "code",
   "execution_count": 60,
   "id": "cc1861e9",
   "metadata": {},
   "outputs": [
    {
     "data": {
      "text/plain": [
       "[7, 0, 8]"
      ]
     },
     "execution_count": 60,
     "metadata": {},
     "output_type": "execute_result"
    }
   ],
   "source": [
    "l1 = [2,4,3]\n",
    "l2 = [5,6,4]\n",
    "addTwoNumbers(l1, l2)"
   ]
  },
  {
   "cell_type": "code",
   "execution_count": 61,
   "id": "047a3473",
   "metadata": {},
   "outputs": [
    {
     "data": {
      "text/plain": [
       "[8, 9, 9, 9, 0, 0, 0, 1]"
      ]
     },
     "execution_count": 61,
     "metadata": {},
     "output_type": "execute_result"
    }
   ],
   "source": [
    "l1 = [9,9,9,9,9,9,9]\n",
    "l2 = [9,9,9,9]\n",
    "addTwoNumbers(l1, l2)"
   ]
  },
  {
   "cell_type": "code",
   "execution_count": 58,
   "id": "669a6c0f",
   "metadata": {},
   "outputs": [
    {
     "data": {
      "text/plain": [
       "[0]"
      ]
     },
     "execution_count": 58,
     "metadata": {},
     "output_type": "execute_result"
    }
   ],
   "source": [
    "l1 = [0]\n",
    "l2 = [0]\n",
    "addTwoNumbers(l1, l2)"
   ]
  },
  {
   "cell_type": "code",
   "execution_count": null,
   "id": "2d85a067",
   "metadata": {},
   "outputs": [],
   "source": []
  }
 ],
 "metadata": {
  "kernelspec": {
   "display_name": "Python 3 (ipykernel)",
   "language": "python",
   "name": "python3"
  },
  "language_info": {
   "codemirror_mode": {
    "name": "ipython",
    "version": 3
   },
   "file_extension": ".py",
   "mimetype": "text/x-python",
   "name": "python",
   "nbconvert_exporter": "python",
   "pygments_lexer": "ipython3",
   "version": "3.9.12"
  }
 },
 "nbformat": 4,
 "nbformat_minor": 5
}
