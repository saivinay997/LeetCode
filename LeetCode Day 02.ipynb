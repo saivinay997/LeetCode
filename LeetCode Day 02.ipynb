{
 "cells": [
  {
   "cell_type": "markdown",
   "id": "30a3e5fb",
   "metadata": {},
   "source": [
    "Question 02\n",
    "\n",
    "You are given two non-empty linked lists representing two non-negative integers. The digits are stored in reverse order, and each of their nodes contains a single digit. Add the two numbers and return the sum as a linked list.\n",
    "\n",
    "You may assume the two numbers do not contain any leading zero, except the number 0 itself."
   ]
  },
  {
   "cell_type": "code",
   "execution_count": null,
   "id": "030014e1",
   "metadata": {},
   "outputs": [],
   "source": [
    "class ListNode:\n",
    "    def __init__(self, val = 0, next = None):\n",
    "        self.val = val\n",
    "        self.next = next\n",
    "\n",
    "\n",
    "    def addTwoNumbers(self, l1, l2):\n",
    "        carry = 0\n",
    "        result = ListNode(0)\n",
    "        pointer = result\n",
    "\n",
    "        while l1 or l2 or carry:\n",
    "            firstNum = l1.val if l1 else 0\n",
    "            secondNum = l2.val if l2 else 0\n",
    "\n",
    "            sum = firstNum + secondNum + carry\n",
    "            num = sum % 10\n",
    "            carry = sum // 10\n",
    "\n",
    "            pointer.next = ListNode(num)\n",
    "            pointer = pointer.next\n",
    "\n",
    "            l1 = l1.next if l1 else None\n",
    "            l2 = l2.next if l2 else None\n",
    "\n",
    "        return result.next"
   ]
  },
  {
   "cell_type": "markdown",
   "id": "4fddf28b",
   "metadata": {},
   "source": [
    "Question 3 Longest Substring Without Repeating Characters\n",
    "\n",
    "Given a string s, find the length of the longest substring without repeating characters."
   ]
  },
  {
   "cell_type": "code",
   "execution_count": null,
   "id": "6b273eb0",
   "metadata": {},
   "outputs": [],
   "source": [
    "def lengthOfLongestSubstring(s:str):\n",
    "    "
   ]
  },
  {
   "cell_type": "code",
   "execution_count": 10,
   "id": "7e958129",
   "metadata": {},
   "outputs": [],
   "source": [
    "s = 'abcabcbb'"
   ]
  },
  {
   "cell_type": "code",
   "execution_count": 3,
   "id": "7ce44d43",
   "metadata": {},
   "outputs": [
    {
     "data": {
      "text/plain": [
       "['abcabcbb']"
      ]
     },
     "execution_count": 3,
     "metadata": {},
     "output_type": "execute_result"
    }
   ],
   "source": [
    "s.split()"
   ]
  },
  {
   "cell_type": "code",
   "execution_count": 4,
   "id": "5e815c10",
   "metadata": {},
   "outputs": [
    {
     "data": {
      "text/plain": [
       "['a', 'b', 'c', 'a', 'b', 'c', 'b', 'b']"
      ]
     },
     "execution_count": 4,
     "metadata": {},
     "output_type": "execute_result"
    }
   ],
   "source": [
    "a = []\n",
    "for i in s:\n",
    "    a.append(i)\n",
    "a"
   ]
  },
  {
   "cell_type": "code",
   "execution_count": 52,
   "id": "2fecd87f",
   "metadata": {},
   "outputs": [],
   "source": [
    "def lengthOfLongestSubstring_1(a:str):\n",
    "    b = []\n",
    "    for i in a:\n",
    "        b.append(i)\n",
    "    \n",
    "    max_count = 0\n",
    "    for j in range(len(b)):\n",
    "        lst = []\n",
    "        count = 0\n",
    "        for k in b:\n",
    "            if k in lst:\n",
    "                b.pop(j)\n",
    "                b.pop(b.index(k))\n",
    "                break\n",
    "            if k not in lst:\n",
    "                lst.append(k)\n",
    "                count += 1\n",
    "            if count > max_count:\n",
    "                max_count = count\n",
    "\n",
    "    \n",
    "    return max_count\n",
    "\n",
    "# This code wont work for 'aab',since it removes both aa at a time"
   ]
  },
  {
   "cell_type": "code",
   "execution_count": 53,
   "id": "cdb51cee",
   "metadata": {},
   "outputs": [
    {
     "data": {
      "text/plain": [
       "3"
      ]
     },
     "execution_count": 53,
     "metadata": {},
     "output_type": "execute_result"
    }
   ],
   "source": [
    "lengthOfLongestSubstring_1(s)"
   ]
  },
  {
   "cell_type": "code",
   "execution_count": 12,
   "id": "5bed618d",
   "metadata": {},
   "outputs": [
    {
     "data": {
      "text/plain": [
       "'abcabcbb'"
      ]
     },
     "execution_count": 12,
     "metadata": {},
     "output_type": "execute_result"
    }
   ],
   "source": [
    "s"
   ]
  },
  {
   "cell_type": "code",
   "execution_count": 54,
   "id": "d688f31c",
   "metadata": {},
   "outputs": [
    {
     "data": {
      "text/plain": [
       "1"
      ]
     },
     "execution_count": 54,
     "metadata": {},
     "output_type": "execute_result"
    }
   ],
   "source": [
    "k = 'bbbbb'\n",
    "lengthOfLongestSubstring_1(k)"
   ]
  },
  {
   "cell_type": "code",
   "execution_count": 55,
   "id": "cd3a3a95",
   "metadata": {},
   "outputs": [
    {
     "data": {
      "text/plain": [
       "3"
      ]
     },
     "execution_count": 55,
     "metadata": {},
     "output_type": "execute_result"
    }
   ],
   "source": [
    "w = 'pwwkew'\n",
    "lengthOfLongestSubstring_1(w)"
   ]
  },
  {
   "cell_type": "code",
   "execution_count": 56,
   "id": "a5ae7577",
   "metadata": {},
   "outputs": [],
   "source": [
    "def lengthOfLongestSubstring(s:str):\n",
    "    char_set = set()\n",
    "    max_len, start = 0,0\n",
    "    for i,c in enumerate(s):\n",
    "        while c in char_set:\n",
    "            char_set.remove(s[start])\n",
    "            start += 1\n",
    "        char_set.add(c)\n",
    "        max_len = max(max_len, i-start+1)\n",
    "    return max_len"
   ]
  },
  {
   "cell_type": "code",
   "execution_count": 57,
   "id": "96521e79",
   "metadata": {},
   "outputs": [
    {
     "data": {
      "text/plain": [
       "3"
      ]
     },
     "execution_count": 57,
     "metadata": {},
     "output_type": "execute_result"
    }
   ],
   "source": [
    "w = 'pwwkew'\n",
    "lengthOfLongestSubstring(w)"
   ]
  },
  {
   "cell_type": "code",
   "execution_count": 58,
   "id": "bc77be36",
   "metadata": {},
   "outputs": [
    {
     "data": {
      "text/plain": [
       "3"
      ]
     },
     "execution_count": 58,
     "metadata": {},
     "output_type": "execute_result"
    }
   ],
   "source": [
    "w = 'aaabc'\n",
    "lengthOfLongestSubstring(w)"
   ]
  },
  {
   "cell_type": "code",
   "execution_count": null,
   "id": "b6e6777e",
   "metadata": {},
   "outputs": [],
   "source": []
  }
 ],
 "metadata": {
  "kernelspec": {
   "display_name": "Python 3 (ipykernel)",
   "language": "python",
   "name": "python3"
  },
  "language_info": {
   "codemirror_mode": {
    "name": "ipython",
    "version": 3
   },
   "file_extension": ".py",
   "mimetype": "text/x-python",
   "name": "python",
   "nbconvert_exporter": "python",
   "pygments_lexer": "ipython3",
   "version": "3.9.12"
  }
 },
 "nbformat": 4,
 "nbformat_minor": 5
}
